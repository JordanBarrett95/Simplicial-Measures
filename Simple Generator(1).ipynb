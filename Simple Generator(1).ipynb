{
 "cells": [
  {
   "cell_type": "markdown",
   "id": "301f0bff-49a1-4639-8d65-94ab59320e5f",
   "metadata": {},
   "source": [
    "# Goals\n",
    "\n",
    "Implement the simple generating process given in \"Algorithm 2\" in our simpliciality file on Overleaf, with weighting scheme given by Example 5.1 and $\\Theta_{k}$ being exactly the set of all previously-seen hyperedges (optionally allowing \"the full graph\" with some multiplicity)"
   ]
  },
  {
   "cell_type": "code",
   "execution_count": 1,
   "id": "d5712368-d528-4613-9b5b-711a5f9ce355",
   "metadata": {},
   "outputs": [],
   "source": [
    "import numpy as np"
   ]
  },
  {
   "cell_type": "code",
   "execution_count": 88,
   "id": "6f6fb34c-cf21-4fa7-ad58-4de601407514",
   "metadata": {},
   "outputs": [],
   "source": [
    "# Create a graph according to Algorithm 2 in our Overleaf.\n",
    "\n",
    "# V: integer - number of vertices.\n",
    "# n: nd array of integers of length K_max, with n[k] being the number of hyperedges of size k+2. \n",
    "# p: ndarray of height V and width K_max, with p[v,k] being the weight of vertex v for hypergraphs of size k. If an array of length V is passed, it should be copied K_max times to make an array.\n",
    "# beta: ndarray of height V and width K_max, with beta[v,k] being the weighting scheme seen in Example 5.1. If an array of length V or K_max is passed, it should be copied to make the 2d array. If a number is passed, it should be copied to make the array.\n",
    "# Global (default = None): if not None, should be a list of integers of length K_max, with Global[k] saying how often to add the set \"all vertices\" to $\\Theta_{k}$. If an integer is passed, it should be copied K_max times to make a list.\n",
    "\n",
    "# NOTE: I make a token effort to make this modular by allowing one to sub in other strategies for e.g. \"simple_upweight\" (which would require replacing \"get_alpha\" with a generic \"get_parameters\" and replacing all of the preprocessing stuff). \n",
    "\n",
    "def Soft_CL(V,n,p,beta,Global=None,eps = (0.1)**10):\n",
    "    # Preprocessing to make sure everything is the right shape.\n",
    "    K_max = n.shape[0]\n",
    "    p = Proc_p(p,K_max)\n",
    "    beta = Proc_beta(beta,V,K_max)\n",
    "\n",
    "    # Initialize\n",
    "    H_list = [] # Elements will be the hyperedges (set objects)\n",
    "    \n",
    "    for k in range(K_max-1,-1,-1): # loop over size of hyperedge, from biggest to smallest\n",
    "        # Freeze the hyperedge list, as the algorithm does\n",
    "        Theta = H_list.copy()\n",
    "        if k == (K_max-1): # In this case the list is empty, so add the \"global\" background. Note I'm wasting computational time doing this, since I don't need to compute alpha here. Oh well.\n",
    "            Theta.append(np.array([x for x in range(V)]))\n",
    "        if Global is not None:\n",
    "            for i in range(Global[k]): # OK, this is surely a silly way to do this. Oh well.\n",
    "                Theta.append(np.array([x for x in range(V)]))\n",
    "        alpha = get_alpha(Theta,beta,V,k,eps=eps) # Compute alpha.\n",
    "        for ind in range(n[k]): # make n[k] hyperedges\n",
    "            adj_p = simple_upweight(Theta,p,V,alpha,beta) # Choose an element of theta, adjust p.\n",
    "            H_list.append(make_CL_edge(k+2,adj_p))\n",
    "    return(H_list)\n",
    "    "
   ]
  },
  {
   "cell_type": "code",
   "execution_count": 44,
   "id": "4cf3f734-db63-4b54-bf43-8f8e3a3751d2",
   "metadata": {},
   "outputs": [],
   "source": [
    "# Makes a single hyperedge of size k according to soft Chung-Lu with weights p.\n",
    "# CHECKED BASIC FUNCTION\n",
    "def make_CL_edge(k,p):\n",
    "    return(np.random.choice(V,size=k,p=p))"
   ]
  },
  {
   "cell_type": "code",
   "execution_count": 57,
   "id": "c7d0ee19-2964-4d09-85fb-ecfd0471710a",
   "metadata": {},
   "outputs": [],
   "source": [
    "# Computes alpha, as in Example 5.1 of Overleaf. Note that at this point k is \"fixed\" and so is not included as an index where it is not needed.\n",
    "# CHECKED BASIC FUNCTION\n",
    "def get_alpha(Theta,beta,V,k,eps = (0.1)**10):\n",
    "    # Compute gamma\n",
    "    gamma = np.zeros(V)\n",
    "    for edge in Theta:\n",
    "        for v in np.unique(edge): # Computing probabilities, so we don't want to deal with self-loops.\n",
    "            gamma[v] = gamma[v] + 1 # Doing raw counts.\n",
    "    for v in range(V):\n",
    "        gamma[v] = gamma[v]/len(Theta) # normalize\n",
    "        \n",
    "    # Compute alpha\n",
    "    alpha = np.zeros(V)\n",
    "    for v in range(V):\n",
    "        alpha[v] = (1 - beta[v,k]*(1-gamma[v]))/(eps + gamma[v]) # Include small \"eps\" value to reduce numerical issues at cost of small bias.\n",
    "    return(alpha)"
   ]
  },
  {
   "cell_type": "code",
   "execution_count": 68,
   "id": "3e466fbe-ae1d-4d30-9edd-4fccf46ca8e4",
   "metadata": {},
   "outputs": [],
   "source": [
    "# Does the simple upweight \n",
    "# CHECKED BASIC FUNCTION\n",
    "def simple_upweight(Theta,p,V,alpha,beta):\n",
    "    m = len(Theta)\n",
    "\n",
    "    S = Theta[np.random.randint(m)] # Choose a random hyperedge to \"be inside\"\n",
    "    adj_p = np.zeros(V)\n",
    "    for v in range(V):\n",
    "        if v in S:\n",
    "            adj_p[v] = p[v,k]*alpha[v]\n",
    "        else:\n",
    "            adj_p[v] = p[v,k]*beta[v,k]\n",
    "    tot = sum(adj_p)\n",
    "    for v in range(V):\n",
    "        adj_p[v] = adj_p[v]/tot\n",
    "    return(adj_p)"
   ]
  },
  {
   "cell_type": "code",
   "execution_count": 28,
   "id": "788a1bac-9049-457d-8460-f2871a6f2048",
   "metadata": {},
   "outputs": [],
   "source": [
    "# Preprocesses p into a matrix of the appropriate size/shape.\n",
    "# CHECKED BASIC FUNCTION\n",
    "def Proc_p(p,K_max):\n",
    "    if len(p.shape) == 2:\n",
    "        return(p)\n",
    "    if len(p.shape) == 1:\n",
    "        V = p.shape[0]\n",
    "        p = np.tile(p, K_max).reshape(K_max,V).transpose()\n",
    "        return(p)\n",
    "    return(-1) # error\n",
    "        "
   ]
  },
  {
   "cell_type": "code",
   "execution_count": 55,
   "id": "b9db346c-4468-4d47-97a6-fd1726276b87",
   "metadata": {},
   "outputs": [],
   "source": [
    "# Preprocesses beta into a matrix of the appropriate size/shape.\n",
    "# CHECKED BASIC FUNCTION\n",
    "def Proc_beta(beta,V,K_max):\n",
    "    res = np.zeros((V,K_max))\n",
    "    if type(beta) is float:\n",
    "        res.fill(beta)\n",
    "        return(res)\n",
    "    if len(beta.shape) == 2:\n",
    "        return(beta)\n",
    "    if len(beta.shape) == 1:\n",
    "        if beta.shape[0] == V:\n",
    "            beta = np.tile(beta, K_max).reshape(K_max,V).transpose()\n",
    "            return(beta)\n",
    "        if beta.shape[0] == K_max:\n",
    "            beta = np.tile(beta, V).reshape(V,K_max)\n",
    "            return(beta)\n",
    "    return(-1) # error"
   ]
  },
  {
   "cell_type": "markdown",
   "id": "fcc8420f-2cc2-4d5b-aa8d-259821ace5c1",
   "metadata": {},
   "source": [
    "## Sanity Check - does something\n",
    "\n",
    "Do the above main function and helper functions do something plausible?"
   ]
  },
  {
   "cell_type": "code",
   "execution_count": 91,
   "id": "2cd88945-7df5-4a78-8f3d-f83535feaf9d",
   "metadata": {},
   "outputs": [
    {
     "data": {
      "text/plain": [
       "[array([4, 4, 1, 7, 7]),\n",
       " array([4, 4, 3, 1]),\n",
       " array([7, 4, 4, 4]),\n",
       " array([1, 4, 4, 4]),\n",
       " array([7, 4, 4]),\n",
       " array([4, 1, 4]),\n",
       " array([1, 4, 4])]"
      ]
     },
     "execution_count": 91,
     "metadata": {},
     "output_type": "execute_result"
    }
   ],
   "source": [
    "\n",
    "# Setting up choices\n",
    "# p\n",
    "p = np.array([0.3,2,0.45,3,8,0.22,0.5,1.2,2.3,2.5])\n",
    "p = p/sum(p)\n",
    "p = Proc_p(p,K_max)\n",
    "\n",
    "#V\n",
    "V = p.shape[0]\n",
    "\n",
    "# K_max\n",
    "K_max =4\n",
    "k=3\n",
    "\n",
    "# Theta\n",
    "Theta = []\n",
    "Theta.append([5,6,7,8])\n",
    "Theta.append([1,6,3,8])\n",
    "Theta.append([2,6,4,3])\n",
    "Theta.append([0,1,2,3,4,5,6,7,8,9])\n",
    "\n",
    "# beta\n",
    "beta = Proc_beta(0.2,V,K_max)\n",
    "\n",
    "# alpha\n",
    "alpha = get_alpha(Theta,beta,V,k)\n",
    "\n",
    "# n\n",
    "n = np.array([0,3,3,1])\n",
    "\n",
    "Soft_CL(V,n,p,beta,Global=None,eps = (0.1)**10)"
   ]
  },
  {
   "cell_type": "markdown",
   "id": "efd530f3-311a-4746-a98d-bbe8df411fc9",
   "metadata": {},
   "source": [
    "## Sanity check - not \"too slow\"\n",
    "\n",
    "Let's see how long this takes to make a graph with a a few hundred hyperedges.\n",
    "\n"
   ]
  },
  {
   "cell_type": "code",
   "execution_count": 99,
   "id": "f9a4b1b8-ea77-4eed-b01a-0ce7fb4465c2",
   "metadata": {},
   "outputs": [
    {
     "name": "stdout",
     "output_type": "stream",
     "text": [
      "CPU times: user 3 µs, sys: 0 ns, total: 3 µs\n",
      "Wall time: 4.53 µs\n"
     ]
    }
   ],
   "source": [
    "%%time\n",
    "V = 1000\n",
    "n=np.array([222,84,33,12,4,1])\n",
    "p = np.asfarray([np.random.randint(15,30) for x in range(V)])\n",
    "tot = sum(p)\n",
    "for v in range(V):\n",
    "    p[v] = p[v]/tot\n",
    "beta = 0.2\n",
    "\n"
   ]
  },
  {
   "cell_type": "code",
   "execution_count": 101,
   "id": "4f03661d-96ee-4a3a-813a-05e3b0c8a534",
   "metadata": {},
   "outputs": [
    {
     "name": "stdout",
     "output_type": "stream",
     "text": [
      "CPU times: user 1.73 s, sys: 670 µs, total: 1.73 s\n",
      "Wall time: 2.17 s\n"
     ]
    }
   ],
   "source": [
    "%%time\n",
    "res = Soft_CL(V,n,p,beta,Global=None,eps = (0.1)**10)"
   ]
  },
  {
   "cell_type": "code",
   "execution_count": 102,
   "id": "598fd56b-3881-4b1e-9d1d-c12c03f37fa3",
   "metadata": {},
   "outputs": [
    {
     "data": {
      "text/plain": [
       "356"
      ]
     },
     "execution_count": 102,
     "metadata": {},
     "output_type": "execute_result"
    }
   ],
   "source": [
    "len(res)"
   ]
  },
  {
   "cell_type": "code",
   "execution_count": null,
   "id": "a3873b63-94a1-4473-8537-155805f0de8b",
   "metadata": {},
   "outputs": [],
   "source": []
  }
 ],
 "metadata": {
  "kernelspec": {
   "display_name": "Python [conda env:.conda-WTF]",
   "language": "python",
   "name": "conda-env-.conda-WTF-py"
  },
  "language_info": {
   "codemirror_mode": {
    "name": "ipython",
    "version": 3
   },
   "file_extension": ".py",
   "mimetype": "text/x-python",
   "name": "python",
   "nbconvert_exporter": "python",
   "pygments_lexer": "ipython3",
   "version": "3.11.5"
  }
 },
 "nbformat": 4,
 "nbformat_minor": 5
}
